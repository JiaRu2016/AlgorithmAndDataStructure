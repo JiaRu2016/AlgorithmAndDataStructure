{
 "cells": [
  {
   "cell_type": "markdown",
   "metadata": {},
   "source": [
    "## Hash\n",
    "\n",
    "- 不适用于范围查找\n",
    "- 不可计算 eg. 最大值最小值排序\n",
    "- unique value 尽可能接近于 n， eg.学号。 性别就不适合用Hash\n",
    "\n",
    "散列函数的原则：\n",
    "\n",
    "- 计算简单，计算一次f()的时间不应超过其他查找技术的“比较”一次的时间\n",
    "- 散列地址分布均匀\n",
    "\n",
    "散列函数的几个例子\n",
    "\n",
    "1. 直接定址 f(key) = key  or f(key) = linear_function(key)  适用于key连续且均匀分布的情况\n",
    "2. 数字分析，eg.电话号码，前三位几乎都相同，前7位也经常雷同，因此**抽取**后4位来HASH\n",
    "\n",
    "若事先不知道key分布：\n",
    "\n",
    "- 平方取中\n",
    "- 折叠法\n",
    "- mod 法， key mod p, 关键在于p的选择。p = 小于等于n的最大？质数\n",
    "\n",
    "任何字符都可以当做数字来处理 ASCII码、unicode etc.\n",
    "\n",
    "\n",
    "### 处理冲突\n",
    "\n",
    "- 开放寻址法\n",
    "- 再哈希\n",
    "- 链地址\n",
    "- 公共溢出区"
   ]
  }
 ],
 "metadata": {
  "kernelspec": {
   "display_name": "Python 3",
   "language": "python",
   "name": "python3"
  },
  "language_info": {
   "codemirror_mode": {
    "name": "ipython",
    "version": 3
   },
   "file_extension": ".py",
   "mimetype": "text/x-python",
   "name": "python",
   "nbconvert_exporter": "python",
   "pygments_lexer": "ipython3",
   "version": "3.6.4"
  }
 },
 "nbformat": 4,
 "nbformat_minor": 2
}
