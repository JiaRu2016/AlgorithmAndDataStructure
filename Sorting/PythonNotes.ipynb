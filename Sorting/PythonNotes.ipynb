{
 "cells": [
  {
   "cell_type": "markdown",
   "metadata": {},
   "source": [
    "## Python笔记：关于 funcion 和 bound method\n",
    "\n",
    "> https://stackoverflow.com/questions/7891277/why-does-setattr-fail-on-a-bound-method\n",
    "\n",
    "\n",
    "### 遇到的问题：试图对成员函数setattr时会抛出错误\n",
    "\n",
    "AttributeError: 'method' object has no attribute 'foo'\n",
    "\n",
    "### 原理：function 与 bound method 的本质是什么？\n",
    "\n",
    "function object 是某种“真实存在的”对象，可以设置任意attr，它有一个`__dict__`属性来存储所有的attr    \n",
    "\n",
    "而与特定实例绑定的 bound method 不同，它没有具体的函数实体。\n",
    "\n",
    "class中的def会创建一个（属于cls命名空间中的）funcion object，通过`cls.m`获得。   \n",
    "而与具体实例绑定的 bound method 不存储函数实体，它只是是记录两个对象的引用：\n",
    "\n",
    "- 其宿主 `instance.__self__`\n",
    "- 定义在类中的函数实体 `instance.m.__func__` (is `cls.m`)\n",
    "\n",
    "当bound method 被调用时，实际执行的是`cls.m(instance.__self__, ...)`   \n",
    "该类所有实例的method，其函数实体`instance.m.__func__` 都指向同一个对象，即类创建时创建的 function object `cls.m`\n",
    "\n",
    "> 回忆quantx是怎么在R语言中实现“类”的？\n",
    "\n",
    "### 回到刚才的问题\n",
    "\n",
    "commit e785ee8 实际上是将属性设置在了cls.m上（定义在class namespace中，是函数对象），是错误的。\n",
    "\n",
    "```\n",
    "def dec(func):\n",
    "    def wrapper(*arg, **kw):\n",
    "        func.xx = xx              # ✔️ 不会报错，但注意，属性是设置在了 KLS.func上\n",
    "        return func(*arg, **kw)\n",
    "    return wrapper\n",
    "\n",
    "class KLS:\n",
    "    @dec\n",
    "    def foo:\n",
    "        setattr(self.bar, 'xx', xx)   # ❌ bounded method 不是函数对象，不可以设置属性\n",
    "        setattr(self.foo, 'xx, xx)  # ❌原因同上\n",
    "\n",
    "ins = KLS()\n",
    "ins.foo.xx = xx   # ❌ 原因同上\n",
    "```"
   ]
  },
  {
   "cell_type": "code",
   "execution_count": 26,
   "metadata": {},
   "outputs": [
    {
     "data": {
      "text/plain": [
       "False"
      ]
     },
     "execution_count": 26,
     "metadata": {},
     "output_type": "execute_result"
    }
   ],
   "source": [
    "m_bb.swap is m_bb2.swap   # different object, since it is bound method of two different istance"
   ]
  },
  {
   "cell_type": "code",
   "execution_count": 24,
   "metadata": {},
   "outputs": [
    {
     "data": {
      "text/plain": [
       "True"
      ]
     },
     "execution_count": 24,
     "metadata": {},
     "output_type": "execute_result"
    }
   ],
   "source": [
    "m_bb.swap.__func__ is m_bb2.swap.__func__  # same object ..."
   ]
  },
  {
   "cell_type": "code",
   "execution_count": 29,
   "metadata": {},
   "outputs": [
    {
     "data": {
      "text/plain": [
       "True"
      ]
     },
     "execution_count": 29,
     "metadata": {},
     "output_type": "execute_result"
    }
   ],
   "source": [
    "m_bb.swap.__func__ is BubbleSort.swap    # ... since they are all ref to cls.funcion"
   ]
  },
  {
   "cell_type": "code",
   "execution_count": 31,
   "metadata": {},
   "outputs": [
    {
     "data": {
      "text/plain": [
       "False"
      ]
     },
     "execution_count": 31,
     "metadata": {},
     "output_type": "execute_result"
    }
   ],
   "source": [
    "m_bb.swap is BubbleSort.swap   # bound method and cls.funcion is not same thing !"
   ]
  },
  {
   "cell_type": "code",
   "execution_count": 18,
   "metadata": {},
   "outputs": [
    {
     "data": {
      "text/plain": [
       "<function __main__.Sorting.swap(self, L, i, j)>"
      ]
     },
     "execution_count": 18,
     "metadata": {},
     "output_type": "execute_result"
    }
   ],
   "source": [
    "BubbleSort.swap  # it is function object !"
   ]
  },
  {
   "cell_type": "code",
   "execution_count": 19,
   "metadata": {},
   "outputs": [
    {
     "data": {
      "text/plain": [
       "<bound method Sorting.swap of <__main__.BubbleSort object at 0x1057068d0>>"
      ]
     },
     "execution_count": 19,
     "metadata": {},
     "output_type": "execute_result"
    }
   ],
   "source": [
    "m_bb.swap  # it is bound method"
   ]
  },
  {
   "cell_type": "code",
   "execution_count": 20,
   "metadata": {},
   "outputs": [
    {
     "data": {
      "text/plain": [
       "<bound method Sorting.swap of <__main__.BubbleSort object at 0x105706390>>"
      ]
     },
     "execution_count": 20,
     "metadata": {},
     "output_type": "execute_result"
    }
   ],
   "source": [
    "m_bb2.swap  # bound method of another istance"
   ]
  },
  {
   "cell_type": "code",
   "execution_count": null,
   "metadata": {},
   "outputs": [],
   "source": []
  },
  {
   "cell_type": "markdown",
   "metadata": {},
   "source": [
    "### 那么怎么实现“成员方法调用次数计数”这个需求呢？我自己想的一个实现：decorator最原始的语法\n",
    "\n",
    "> https://medium.com/@vadimpushtaev/decorator-inside-python-class-1e74d23107f6\n",
    "\n",
    "1. 直接在成员方法的`def`上加`@dec`并不work\n",
    "2. staticmethod也不行，因为 @staticmethod 对于inside class / outside class 的behavior不同"
   ]
  },
  {
   "cell_type": "code",
   "execution_count": 63,
   "metadata": {},
   "outputs": [],
   "source": [
    "class A(object):\n",
    "    def __init__(self):\n",
    "        print('calling __init__')\n",
    "        self.count_call_dict = {}\n",
    "        \n",
    "        self.a = self.count_call(self.a)\n",
    "        self.b = self.count_call(self.b)\n",
    "        \n",
    "    def a(self):\n",
    "        print('aaaaaaaaaaa')\n",
    "    \n",
    "    def b(self):\n",
    "        print('bbbbbbbbbbb')\n",
    "        \n",
    "    def count_call(self, func):\n",
    "        print('Calling count_call')\n",
    "        self.count_call_dict[func.__name__] = 0\n",
    "        def wrapper(*args, **kw):\n",
    "            print('func name is', func.__name__)\n",
    "            self.count_call_dict[func.__name__] += 1\n",
    "            return func(*args, **kw)\n",
    "        return wrapper"
   ]
  },
  {
   "cell_type": "code",
   "execution_count": 69,
   "metadata": {},
   "outputs": [
    {
     "name": "stdout",
     "output_type": "stream",
     "text": [
      "calling __init__\n",
      "Calling count_call\n",
      "Calling count_call\n",
      "calling __init__\n",
      "Calling count_call\n",
      "Calling count_call\n",
      "func name is a\n",
      "aaaaaaaaaaa\n",
      "func name is a\n",
      "aaaaaaaaaaa\n",
      "func name is a\n",
      "aaaaaaaaaaa\n",
      "func name is b\n",
      "bbbbbbbbbbb\n",
      "func name is b\n",
      "bbbbbbbbbbb\n",
      "func name is a\n",
      "aaaaaaaaaaa\n",
      "func name is a\n",
      "aaaaaaaaaaa\n",
      "func name is b\n",
      "bbbbbbbbbbb\n",
      "func name is b\n",
      "bbbbbbbbbbb\n",
      "{'a': 4, 'b': 2}\n",
      "{'a': 1, 'b': 2}\n"
     ]
    }
   ],
   "source": [
    "foooo = A()\n",
    "b___ = A()\n",
    "\n",
    "foooo.a(); foooo.a(); foooo.a()   # foooo.a = 3\n",
    "foooo.b(); foooo.b()              # foooo.b = 2\n",
    "b___.a()\n",
    "foooo.a()                         # foooo.a = 4\n",
    "b___.b(); b___.b()\n",
    "\n",
    "print(foooo.count_call_dict)\n",
    "print(b___.count_call_dict)"
   ]
  },
  {
   "cell_type": "code",
   "execution_count": null,
   "metadata": {},
   "outputs": [],
   "source": []
  },
  {
   "cell_type": "code",
   "execution_count": null,
   "metadata": {},
   "outputs": [],
   "source": []
  },
  {
   "cell_type": "markdown",
   "metadata": {},
   "source": [
    "## Python Notes: pass by assignment\n",
    "\n",
    "> [python document](https://docs.python.org/3/faq/programming.html#how-do-i-write-a-function-with-output-parameters-call-by-reference)    \n",
    "> \"Arguments are **passed by assignment** in Python.\"\n",
    "\n",
    "> [A blog](https://robertheaton.com/2014/02/09/pythons-pass-by-object-reference-as-explained-by-philip-k-dick/)    \n",
    "> What does it means by saying **\"Object references are passed by value\"**?\n",
    "\n",
    "> https://nedbatchelder.com/text/names1.html\n"
   ]
  },
  {
   "cell_type": "code",
   "execution_count": 3,
   "metadata": {},
   "outputs": [
    {
     "data": {
      "text/plain": [
       "[0, 1, 2]"
      ]
     },
     "execution_count": 3,
     "metadata": {},
     "output_type": "execute_result"
    }
   ],
   "source": [
    "# 下面的例子说明，python没有所谓的 “传引用”\n",
    "\n",
    "a = [0, 1, 2]\n",
    "b = a[1]   # 不是引用 b = &a[1]，而是 name b bounded to object in a[1]  想象一下示意图\n",
    "\n",
    "b = 99\n",
    "a          # 如果是 b = &a[1]，那么 a 应该为 [0, 99, 2]"
   ]
  },
  {
   "cell_type": "code",
   "execution_count": null,
   "metadata": {},
   "outputs": [],
   "source": []
  }
 ],
 "metadata": {
  "kernelspec": {
   "display_name": "Python 3",
   "language": "python",
   "name": "python3"
  },
  "language_info": {
   "codemirror_mode": {
    "name": "ipython",
    "version": 3
   },
   "file_extension": ".py",
   "mimetype": "text/x-python",
   "name": "python",
   "nbconvert_exporter": "python",
   "pygments_lexer": "ipython3",
   "version": "3.6.4"
  }
 },
 "nbformat": 4,
 "nbformat_minor": 2
}
