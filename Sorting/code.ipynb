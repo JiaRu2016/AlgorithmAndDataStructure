{
 "cells": [
  {
   "cell_type": "markdown",
   "metadata": {},
   "source": [
    "### Sorting, abstract class"
   ]
  },
  {
   "cell_type": "code",
   "execution_count": 14,
   "metadata": {},
   "outputs": [],
   "source": [
    "import numpy as np\n",
    "import functools\n",
    "import copy\n",
    "\n",
    "\n",
    "def count_call(func):\n",
    "    def wrapper(*args, **kwargs):\n",
    "        wrapper.num_call += 1\n",
    "        func(*args, **kwargs)\n",
    "    wrapper.num_call = 0\n",
    "    return wrapper\n",
    "\n",
    "\n",
    "class Sorting(object):\n",
    "    \"\"\"排序算法抽象类\n",
    "    \n",
    "    - 通用功能：交换和移动\n",
    "        + swap()\n",
    "        + move()\n",
    "    - 数据生成： random, almost sorted, reversed, few unique\n",
    "    - 性能分析： time: #swap, #move; space: \n",
    "    \"\"\"\n",
    "    \n",
    "    def __init__(self):\n",
    "        self.L_random = None\n",
    "        self.L_sorted = None\n",
    "        self.L_reversed = None\n",
    "        self.L_few_unique = None\n",
    "        # self.regenerate_L() # 暴露给用户\n",
    "        \n",
    "        self.L_customized = None\n",
    "        # self.customize_L()  # 暴露给用户\n",
    "        \n",
    "        # run & performance info\n",
    "        self.N = None\n",
    "        self.func_count = None\n",
    "        \n",
    "    def regenerate_L(self, N=30, few_unique_nvalue=5, seed=123456):\n",
    "        np.random.seed(seed)\n",
    "        self.L_random = list(np.random.choice(range(N), size=N, replace=False))\n",
    "        self.L_sorted = list(range(N))\n",
    "        self.L_reversed = list(range(N, 0, -1))\n",
    "        self.L_few_unique = list(np.random.choice(range(few_unique_nvalue), size=N, replace=True))    \n",
    "        \n",
    "    def customize_L(self, L):\n",
    "        self.L_customized = L \n",
    "    \n",
    "    # ------------ sort -----------------------------\n",
    "    def sort(self, L):\n",
    "        if True:\n",
    "            self.L = L\n",
    "            self.N = len(L)\n",
    "            self.func_call_count = {}\n",
    "            self.swap_times = 0\n",
    "            self.copy_times = 0\n",
    "            self.calling_stack = 0\n",
    "            self.space_used = 0\n",
    "        \n",
    "        self._sort(L)\n",
    "        \n",
    "        if True:\n",
    "            self.perfromance_summary()\n",
    "        \n",
    "    def _sort(self, L):\n",
    "        \"\"\"在子类中具体实现\n",
    "        \"\"\"\n",
    "        raise NotImplementedError\n",
    "        \n",
    "    # ------------ utils && performance analysis -----------------------------    \n",
    "    @count_call\n",
    "    def swap(self, L, i, j):\n",
    "        L[i], L[j] = L[j], L[i]\n",
    "        \n",
    "    @count_call\n",
    "    def copy_to(self, ref, dest):\n",
    "        dest = copy.deepcopy(ref)\n",
    "            \n",
    "    def perfromance_summary(self):\n",
    "        print(self.L)\n",
    "        print('inversion number:', Sorting.get_inversion_number(self.L))\n",
    "        print('------------------------')\n",
    "        print('N =', self.N)\n",
    "        print('time complexity:\\n\\tswap = {}\\n\\tcopy = {}'.format(self.swap.num_call, self.copy_to.num_call))\n",
    "        print('space complexity:', )\n",
    "        \n",
    "    @staticmethod\n",
    "    def get_inversion_number(L):\n",
    "        n = len(L)\n",
    "        return sum(L[i] > L[j] for i in range(n) for j in range(i+1, n))"
   ]
  },
  {
   "cell_type": "code",
   "execution_count": 15,
   "metadata": {},
   "outputs": [
    {
     "ename": "NotImplementedError",
     "evalue": "",
     "output_type": "error",
     "traceback": [
      "\u001b[0;31m---------------------------------------------------------------------------\u001b[0m",
      "\u001b[0;31mNotImplementedError\u001b[0m                       Traceback (most recent call last)",
      "\u001b[0;32m<ipython-input-15-4c4696854fdc>\u001b[0m in \u001b[0;36m<module>\u001b[0;34m\u001b[0m\n\u001b[1;32m      1\u001b[0m \u001b[0mm\u001b[0m \u001b[0;34m=\u001b[0m \u001b[0mSorting\u001b[0m\u001b[0;34m(\u001b[0m\u001b[0;34m)\u001b[0m\u001b[0;34m\u001b[0m\u001b[0m\n\u001b[1;32m      2\u001b[0m \u001b[0mm\u001b[0m\u001b[0;34m.\u001b[0m\u001b[0mregenerate_L\u001b[0m\u001b[0;34m(\u001b[0m\u001b[0mN\u001b[0m\u001b[0;34m=\u001b[0m\u001b[0;36m20\u001b[0m\u001b[0;34m)\u001b[0m\u001b[0;34m\u001b[0m\u001b[0m\n\u001b[0;32m----> 3\u001b[0;31m \u001b[0mm\u001b[0m\u001b[0;34m.\u001b[0m\u001b[0msort\u001b[0m\u001b[0;34m(\u001b[0m\u001b[0mm\u001b[0m\u001b[0;34m.\u001b[0m\u001b[0mL_random\u001b[0m\u001b[0;34m)\u001b[0m\u001b[0;34m\u001b[0m\u001b[0m\n\u001b[0m",
      "\u001b[0;32m<ipython-input-14-e736ae365037>\u001b[0m in \u001b[0;36msort\u001b[0;34m(self, L)\u001b[0m\n\u001b[1;32m     57\u001b[0m             \u001b[0mself\u001b[0m\u001b[0;34m.\u001b[0m\u001b[0mspace_used\u001b[0m \u001b[0;34m=\u001b[0m \u001b[0;36m0\u001b[0m\u001b[0;34m\u001b[0m\u001b[0m\n\u001b[1;32m     58\u001b[0m \u001b[0;34m\u001b[0m\u001b[0m\n\u001b[0;32m---> 59\u001b[0;31m         \u001b[0mself\u001b[0m\u001b[0;34m.\u001b[0m\u001b[0m_sort\u001b[0m\u001b[0;34m(\u001b[0m\u001b[0mL\u001b[0m\u001b[0;34m)\u001b[0m\u001b[0;34m\u001b[0m\u001b[0m\n\u001b[0m\u001b[1;32m     60\u001b[0m \u001b[0;34m\u001b[0m\u001b[0m\n\u001b[1;32m     61\u001b[0m         \u001b[0;32mif\u001b[0m \u001b[0;32mTrue\u001b[0m\u001b[0;34m:\u001b[0m\u001b[0;34m\u001b[0m\u001b[0m\n",
      "\u001b[0;32m<ipython-input-14-e736ae365037>\u001b[0m in \u001b[0;36m_sort\u001b[0;34m(self, L)\u001b[0m\n\u001b[1;32m     65\u001b[0m         \"\"\"在子类中具体实现\n\u001b[1;32m     66\u001b[0m         \"\"\"\n\u001b[0;32m---> 67\u001b[0;31m         \u001b[0;32mraise\u001b[0m \u001b[0mNotImplementedError\u001b[0m\u001b[0;34m\u001b[0m\u001b[0m\n\u001b[0m\u001b[1;32m     68\u001b[0m \u001b[0;34m\u001b[0m\u001b[0m\n\u001b[1;32m     69\u001b[0m     \u001b[0;31m# ------------ utils && performance analysis -----------------------------\u001b[0m\u001b[0;34m\u001b[0m\u001b[0;34m\u001b[0m\u001b[0m\n",
      "\u001b[0;31mNotImplementedError\u001b[0m: "
     ]
    }
   ],
   "source": [
    "m = Sorting()\n",
    "m.regenerate_L(N=20)\n",
    "m.sort(m.L_random)"
   ]
  },
  {
   "cell_type": "code",
   "execution_count": 16,
   "metadata": {},
   "outputs": [
    {
     "name": "stdout",
     "output_type": "stream",
     "text": [
      "[19, 13, 12, 9, 5, 6, 2, 3, 18, 8, 4, 7, 0, 14, 16, 15, 11, 17, 10, 1]\n",
      "inversion number: 101\n",
      "------------------------\n",
      "N= 20\n",
      "time complexity:\n",
      "\tswap=0\n",
      "\tcopy=0\n",
      "space complexity:\n"
     ]
    }
   ],
   "source": [
    "m.perfromance_summary()"
   ]
  },
  {
   "cell_type": "code",
   "execution_count": null,
   "metadata": {},
   "outputs": [],
   "source": []
  }
 ],
 "metadata": {
  "kernelspec": {
   "display_name": "Python 3",
   "language": "python",
   "name": "python3"
  },
  "language_info": {
   "codemirror_mode": {
    "name": "ipython",
    "version": 3
   },
   "file_extension": ".py",
   "mimetype": "text/x-python",
   "name": "python",
   "nbconvert_exporter": "python",
   "pygments_lexer": "ipython3",
   "version": "3.6.4"
  }
 },
 "nbformat": 4,
 "nbformat_minor": 2
}
