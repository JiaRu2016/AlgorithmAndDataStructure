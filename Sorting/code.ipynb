{
 "cells": [
  {
   "cell_type": "markdown",
   "metadata": {},
   "source": [
    "### Sorting, abstract class"
   ]
  },
  {
   "cell_type": "code",
   "execution_count": 45,
   "metadata": {},
   "outputs": [],
   "source": [
    "import numpy as np\n",
    "import functools\n",
    "import copy\n",
    "import operator\n",
    "\n",
    "\n",
    "class Sorting(object):\n",
    "    \"\"\"排序算法抽象类\n",
    "    \n",
    "    - 通用功能：交换和移动\n",
    "        + swap()\n",
    "        + move()\n",
    "    - 数据生成： random, almost sorted, reversed, few unique\n",
    "    - 性能分析： time: #swap, #move; space: \n",
    "    \"\"\"\n",
    "    \n",
    "    def __init__(self):\n",
    "        \n",
    "        # run & performance info\n",
    "        self.origin_L = None\n",
    "        self.L = None\n",
    "        self.N = None\n",
    "        \n",
    "        self.count_call_dict = {}\n",
    "        \n",
    "        self.alg_cmp = self.count_call(self.alg_cmp)\n",
    "        self.swap = self.count_call(self.swap)\n",
    "        self.copy_to = self.count_call(self.copy_to)\n",
    "    \n",
    "    @staticmethod\n",
    "    def generate_L(N=30, few_unique_nvalue=5, seed=123456):\n",
    "        np.random.seed(seed)\n",
    "        return {\n",
    "            'L_random': list(np.random.choice(range(N), size=N, replace=False)),\n",
    "            'L_sorted': list(range(N)),\n",
    "            'L_reversed': list(range(N, 0, -1)),\n",
    "            'L_few_unique': list(np.random.choice(range(few_unique_nvalue), size=N, replace=True)),\n",
    "        }\n",
    "    \n",
    "    # ------------ sort -----------------------------\n",
    "    def sort(self, L_):\n",
    "        L = copy.deepcopy(L_)\n",
    "        if True:\n",
    "            self.origin_L = copy.deepcopy(L)\n",
    "            self.L = L\n",
    "            self.N = len(L)\n",
    "            \n",
    "        self._sort(self.L)\n",
    "        \n",
    "        if True:\n",
    "            Sorting.check_sorted(self.L)\n",
    "            self.perfromance_summary()\n",
    "        \n",
    "    def _sort(self, L):\n",
    "        raise NotImplementedError\n",
    "        \n",
    "    # ------------ utils && performance analysis -----------------------------    \n",
    "    def count_call(self, func):\n",
    "        self.count_call_dict[func.__name__] = 0\n",
    "        @functools.wraps(func)\n",
    "        def wrapper(*args, **kw):\n",
    "            self.count_call_dict[func.__name__] += 1\n",
    "            return func(*args, **kw)\n",
    "        return wrapper\n",
    "    \n",
    "    def alg_cmp(self, a, op, b):\n",
    "        return op(a, b)\n",
    "    \n",
    "    def swap(self, L, i, j):\n",
    "        L[i], L[j] = L[j], L[i]\n",
    "        \n",
    "    def copy_to(self, L, i, value):\n",
    "        # L[i] = value   # value should be object that pass by value\n",
    "        L[i] = copy.deepcopy(value)   # just in case of\n",
    "            \n",
    "    def perfromance_summary(self):\n",
    "        print(self.origin_L)\n",
    "        print('inversion number:', Sorting.get_inversion_number(self.origin_L))\n",
    "        print(self.L, Sorting.check_sorted(self.L))\n",
    "        print('------------------------')\n",
    "        print('N =', self.N)\n",
    "        print('========= Theretical Analysis =========')\n",
    "        for (txt, f) in self.theretical_complexity():\n",
    "            print(txt, '-->', str(f(self.N)))\n",
    "        print('------------------------')\n",
    "        print('time complexity: ', self.count_call_dict)\n",
    "        print('space complexity:', )\n",
    "        \n",
    "    def theretical_complexity(self):\n",
    "        raise NotImplementedError\n",
    "        \n",
    "    @staticmethod\n",
    "    def get_inversion_number(L):\n",
    "        n = len(L)\n",
    "        return sum(L[i] > L[j] for i in range(n) for j in range(i+1, n))\n",
    "    \n",
    "    @staticmethod\n",
    "    def check_sorted(L):\n",
    "        return all(L[i] <= L[i+1] for i in range(len(L) - 1))"
   ]
  },
  {
   "cell_type": "code",
   "execution_count": 46,
   "metadata": {},
   "outputs": [],
   "source": [
    "data = Sorting.generate_L(N=20)\n",
    "L1 = data['L_random']\n",
    "L2 = data['L_few_unique']"
   ]
  },
  {
   "cell_type": "markdown",
   "metadata": {},
   "source": [
    "### Bubble Sort"
   ]
  },
  {
   "cell_type": "code",
   "execution_count": 47,
   "metadata": {},
   "outputs": [],
   "source": [
    "class BubbleSort(Sorting):\n",
    "    \"\"\"冒泡排序\"\"\"\n",
    "    \n",
    "    def _sort(self, L):\n",
    "        n = len(L)\n",
    "        for i in range(n):\n",
    "            for j in range(n-1, i, -1):\n",
    "                if self.alg_cmp(L[j-1], operator.__gt__, L[j]):\n",
    "                    self.swap(L, j-1, j)\n",
    "                    \n",
    "    def theretical_complexity(self):\n",
    "        return [\n",
    "            ('#cmp: N(N-1)/2', lambda N: N * (N-1) / 2),\n",
    "            ('#swap  bad-case reversed: N(N-1)/2', lambda N: N * (N-1) / 2),\n",
    "            ('#swap  good-case sorted: 0', lambda N: 0),\n",
    "            ('#space: 0', lambda N: 0)\n",
    "        ]"
   ]
  },
  {
   "cell_type": "code",
   "execution_count": 48,
   "metadata": {},
   "outputs": [
    {
     "name": "stdout",
     "output_type": "stream",
     "text": [
      "[19, 13, 12, 9, 5, 6, 2, 3, 18, 8, 4, 7, 0, 14, 16, 15, 11, 17, 10, 1]\n",
      "inversion number: 101\n",
      "[0, 1, 2, 3, 4, 5, 6, 7, 8, 9, 10, 11, 12, 13, 14, 15, 16, 17, 18, 19] True\n",
      "------------------------\n",
      "N = 20\n",
      "========= Theretical Analysis =========\n",
      "#cmp: N(N-1)/2 --> 190.0\n",
      "#swap  bad-case reversed: N(N-1)/2 --> 190.0\n",
      "#swap  good-case sorted: 0 --> 0\n",
      "#space: 0 --> 0\n",
      "------------------------\n",
      "time complexity:  {'alg_cmp': 190, 'swap': 101, 'copy_to': 0}\n",
      "space complexity:\n"
     ]
    }
   ],
   "source": [
    "m_bb = BubbleSort()\n",
    "m_bb.sort(L1)"
   ]
  },
  {
   "cell_type": "code",
   "execution_count": 49,
   "metadata": {},
   "outputs": [
    {
     "name": "stdout",
     "output_type": "stream",
     "text": [
      "[4, 4, 4, 4, 3, 1, 4, 3, 3, 0, 4, 2, 2, 0, 3, 4, 2, 1, 2, 4]\n",
      "inversion number: 100\n",
      "[0, 0, 1, 1, 2, 2, 2, 2, 3, 3, 3, 3, 4, 4, 4, 4, 4, 4, 4, 4] True\n",
      "------------------------\n",
      "N = 20\n",
      "========= Theretical Analysis =========\n",
      "#cmp: N(N-1)/2 --> 190.0\n",
      "#swap  bad-case reversed: N(N-1)/2 --> 190.0\n",
      "#swap  good-case sorted: 0 --> 0\n",
      "#space: 0 --> 0\n",
      "------------------------\n",
      "time complexity:  {'alg_cmp': 190, 'swap': 100, 'copy_to': 0}\n",
      "space complexity:\n"
     ]
    }
   ],
   "source": [
    "m_bb2 = BubbleSort()\n",
    "m_bb2.sort(L2)"
   ]
  },
  {
   "cell_type": "markdown",
   "metadata": {},
   "source": [
    "### Selection Sort"
   ]
  },
  {
   "cell_type": "code",
   "execution_count": 50,
   "metadata": {},
   "outputs": [],
   "source": [
    "class SelectionSort(Sorting):\n",
    "    \"\"\"选择排序\"\"\"\n",
    "    \n",
    "    def _sort(self, L):\n",
    "        n = len(L)\n",
    "        for i in range(n):\n",
    "            min_idx = i\n",
    "            for j in range(i+1, n):\n",
    "                if self.alg_cmp(L[j], operator.__lt__, L[min_idx]):\n",
    "                    min_idx = j\n",
    "            if min_idx > i:\n",
    "                self.swap(L, i, min_idx)  # if min_idx > i, 这个比较算不算在时间复杂度内？\n",
    "                    \n",
    "    def theretical_complexity(self):\n",
    "        return [\n",
    "            ('#cmp: N(N-1)/2', lambda N: N * (N-1) / 2),\n",
    "            ('#swap  bad-case(most case, swap for all i): N', lambda N: N),\n",
    "            ('#swap  good-case(sorted): 0', lambda N: 0),\n",
    "            ('#space: 0', lambda N: 0)\n",
    "        ]"
   ]
  },
  {
   "cell_type": "code",
   "execution_count": 51,
   "metadata": {},
   "outputs": [
    {
     "name": "stdout",
     "output_type": "stream",
     "text": [
      "[19, 13, 12, 9, 5, 6, 2, 3, 18, 8, 4, 7, 0, 14, 16, 15, 11, 17, 10, 1]\n",
      "inversion number: 101\n",
      "[0, 1, 2, 3, 4, 5, 6, 7, 8, 9, 10, 11, 12, 13, 14, 15, 16, 17, 18, 19] True\n",
      "------------------------\n",
      "N = 20\n",
      "========= Theretical Analysis =========\n",
      "#cmp: N(N-1)/2 --> 190.0\n",
      "#swap  bad-case(most case, swap for all i): N --> 20\n",
      "#swap  good-case(sorted): 0 --> 0\n",
      "#space: 0 --> 0\n",
      "------------------------\n",
      "time complexity:  {'alg_cmp': 190, 'swap': 17, 'copy_to': 0}\n",
      "space complexity:\n"
     ]
    }
   ],
   "source": [
    "m_selection = SelectionSort()\n",
    "m_selection.sort(L1)"
   ]
  },
  {
   "cell_type": "code",
   "execution_count": 52,
   "metadata": {},
   "outputs": [
    {
     "name": "stdout",
     "output_type": "stream",
     "text": [
      "[4, 4, 4, 4, 3, 1, 4, 3, 3, 0, 4, 2, 2, 0, 3, 4, 2, 1, 2, 4]\n",
      "inversion number: 100\n",
      "[0, 0, 1, 1, 2, 2, 2, 2, 3, 3, 3, 3, 4, 4, 4, 4, 4, 4, 4, 4] True\n",
      "------------------------\n",
      "N = 20\n",
      "========= Theretical Analysis =========\n",
      "#cmp: N(N-1)/2 --> 190.0\n",
      "#swap  bad-case(most case, swap for all i): N --> 20\n",
      "#swap  good-case(sorted): 0 --> 0\n",
      "#space: 0 --> 0\n",
      "------------------------\n",
      "time complexity:  {'alg_cmp': 190, 'swap': 11, 'copy_to': 0}\n",
      "space complexity:\n"
     ]
    }
   ],
   "source": [
    "m_selection2 = SelectionSort()\n",
    "m_selection2.sort(L2)"
   ]
  },
  {
   "cell_type": "code",
   "execution_count": 53,
   "metadata": {},
   "outputs": [
    {
     "name": "stdout",
     "output_type": "stream",
     "text": [
      "[0, 0, 0, 1, 1, 1]\n",
      "inversion number: 0\n",
      "[0, 0, 0, 1, 1, 1] True\n",
      "------------------------\n",
      "N = 6\n",
      "========= Theretical Analysis =========\n",
      "#cmp: N(N-1)/2 --> 15.0\n",
      "#swap  bad-case(most case, swap for all i): N --> 6\n",
      "#swap  good-case(sorted): 0 --> 0\n",
      "#space: 0 --> 0\n",
      "------------------------\n",
      "time complexity:  {'alg_cmp': 15, 'swap': 0, 'copy_to': 0}\n",
      "space complexity:\n"
     ]
    }
   ],
   "source": [
    "m_selection3 = SelectionSort()\n",
    "m_selection3.sort([0, 0, 0, 1, 1, 1])"
   ]
  },
  {
   "cell_type": "markdown",
   "metadata": {},
   "source": [
    "### Insertion Sort"
   ]
  },
  {
   "cell_type": "code",
   "execution_count": null,
   "metadata": {},
   "outputs": [],
   "source": []
  },
  {
   "cell_type": "code",
   "execution_count": 69,
   "metadata": {},
   "outputs": [],
   "source": [
    "class InsertionSort(Sorting):\n",
    "    \"\"\"插入排序\"\"\"\n",
    "    \n",
    "    def _sort(self, L):\n",
    "        n = len(L)\n",
    "        L.append(None)\n",
    "        TMP = n\n",
    "        \n",
    "        # [  0, x, x, x, x, x, x, x,   i-1,   i,  ]\n",
    "        # [j=0 <------------j------- j=i-1,   i,  ]\n",
    "        # [                 k >>>>>>>>>>>>>>>>|,  ]\n",
    "        for i in range(n):\n",
    "            for j in reversed(range(i)):\n",
    "                if self.alg_cmp(L[i], operator.__ge__, L[j]):  # L[i] 放到 j 后面\n",
    "                    self.copy_to(L, TMP, L[i])\n",
    "                    # tmp_storage = copy.deepcopy(L[i])  # todo: copy_to\n",
    "                    for k in range(i, j+1, -1):\n",
    "                        self.copy_to(L, k, L[k-1])\n",
    "                        #L[k] = copy.deepcopy(L[k-1])\n",
    "                    self.copy_to(L, j+1, L[TMP])\n",
    "                    #L[j+1] = copy.deepcopy(tmp_storage)\n",
    "                    break\n",
    "                    \n",
    "            # here j == 0, if not break\n",
    "            if L[i] < L[0]:\n",
    "                self.copy_to(L, TMP, L[i])\n",
    "                # tmp_storage = copy.deepcopy(L[i])\n",
    "                for k in range(i, 0, -1):\n",
    "                    self.copy_to(L, k, L[k-1])\n",
    "                    #L[k] = copy.deepcopy(L[k-1])\n",
    "                self.copy_to(L, 0, L[TMP])\n",
    "                #L[0] = copy.deepcopy(tmp_storage)\n",
    "        del L[TMP]\n",
    "                    \n",
    "    def theretical_complexity(self):\n",
    "        return [\n",
    "            ('#cmp bad-case(reversed): 1 + ... + N-1 = N(N-1)/2', lambda N: N * (N-1) / 2),\n",
    "            ('#cmp good-case(sorted): N-1', lambda N: N-1),\n",
    "            ('#copy  bad-case(reversed): 3 + ... + N+1 = (N+4)(N-1) / 2', lambda N: (N+4) * (N-1) / 2),\n",
    "            ('#copy  good-case(sorted): 2(N-1)', lambda N: 2 * (N-1)),\n",
    "            ('#space: 1', lambda N: 1)\n",
    "        ]"
   ]
  },
  {
   "cell_type": "code",
   "execution_count": 70,
   "metadata": {},
   "outputs": [
    {
     "name": "stdout",
     "output_type": "stream",
     "text": [
      "[19, 13, 12, 9, 5, 6, 2, 3, 18, 8, 4, 7, 0, 14, 16, 15, 11, 17, 10, 1]\n",
      "inversion number: 101\n",
      "[0, 1, 2, 3, 4, 5, 6, 7, 8, 9, 10, 11, 12, 13, 14, 15, 16, 17, 18, 19] True\n",
      "------------------------\n",
      "N = 20\n",
      "========= Theretical Analysis =========\n",
      "#cmp bad-case(reversed): 1 + ... + N-1 = N(N-1)/2 --> 190.0\n",
      "#cmp good-case(sorted): N-1 --> 19\n",
      "#copy  bad-case(reversed): 3 + ... + N+1 = (N+4)(N-1) / 2 --> 228.0\n",
      "#copy  good-case(sorted): 2(N-1) --> 38\n",
      "#space: 1 --> 1\n",
      "------------------------\n",
      "time complexity:  {'alg_cmp': 114, 'swap': 0, 'copy_to': 139}\n",
      "space complexity:\n"
     ]
    }
   ],
   "source": [
    "m_insert = InsertionSort()\n",
    "m_insert.sort(L1)"
   ]
  },
  {
   "cell_type": "code",
   "execution_count": 71,
   "metadata": {},
   "outputs": [
    {
     "name": "stdout",
     "output_type": "stream",
     "text": [
      "[4, 4, 4, 4, 3, 1, 4, 3, 3, 0, 4, 2, 2, 0, 3, 4, 2, 1, 2, 4]\n",
      "inversion number: 100\n",
      "[0, 0, 1, 1, 2, 2, 2, 2, 3, 3, 3, 3, 4, 4, 4, 4, 4, 4, 4, 4] True\n",
      "------------------------\n",
      "N = 20\n",
      "========= Theretical Analysis =========\n",
      "#cmp bad-case(reversed): 1 + ... + N-1 = N(N-1)/2 --> 190.0\n",
      "#cmp good-case(sorted): N-1 --> 19\n",
      "#copy  bad-case(reversed): 3 + ... + N+1 = (N+4)(N-1) / 2 --> 228.0\n",
      "#copy  good-case(sorted): 2(N-1) --> 38\n",
      "#space: 1 --> 1\n",
      "------------------------\n",
      "time complexity:  {'alg_cmp': 116, 'swap': 0, 'copy_to': 138}\n",
      "space complexity:\n"
     ]
    }
   ],
   "source": [
    "m_insert2 = InsertionSort()\n",
    "m_insert2.sort(L2)"
   ]
  },
  {
   "cell_type": "code",
   "execution_count": 74,
   "metadata": {},
   "outputs": [
    {
     "name": "stdout",
     "output_type": "stream",
     "text": [
      "[0, 1, 2, 3, 4, 5, 1]\n",
      "inversion number: 4\n",
      "[0, 1, 1, 2, 3, 4, 5] True\n",
      "------------------------\n",
      "N = 7\n",
      "========= Theretical Analysis =========\n",
      "#cmp bad-case(reversed): 1 + ... + N-1 = N(N-1)/2 --> 21.0\n",
      "#cmp good-case(sorted): N-1 --> 6\n",
      "#copy  bad-case(reversed): 3 + ... + N+1 = (N+4)(N-1) / 2 --> 33.0\n",
      "#copy  good-case(sorted): 2(N-1) --> 12\n",
      "#space: 1 --> 1\n",
      "------------------------\n",
      "time complexity:  {'alg_cmp': 10, 'swap': 0, 'copy_to': 16}\n",
      "space complexity:\n"
     ]
    }
   ],
   "source": [
    "m_insert3 = InsertionSort()\n",
    "m_insert3.sort([0, 1, 2, 3, 4, 5, 1])"
   ]
  },
  {
   "cell_type": "code",
   "execution_count": null,
   "metadata": {},
   "outputs": [],
   "source": []
  },
  {
   "cell_type": "code",
   "execution_count": null,
   "metadata": {},
   "outputs": [],
   "source": []
  },
  {
   "cell_type": "markdown",
   "metadata": {},
   "source": [
    "## Python笔记：关于 funcion 和 bound method\n",
    "\n",
    "> https://stackoverflow.com/questions/7891277/why-does-setattr-fail-on-a-bound-method\n",
    "\n",
    "\n",
    "### 遇到的问题：试图对成员函数setattr时会抛出错误\n",
    "\n",
    "AttributeError: 'method' object has no attribute 'foo'\n",
    "\n",
    "### 原理：function 与 bound method 的本质是什么？\n",
    "\n",
    "function object 是某种“真实存在的”对象，可以设置任意attr，它有一个`__dict__`属性来存储所有的attr    \n",
    "\n",
    "而与特定实例绑定的 bound method 不同，它没有具体的函数实体。\n",
    "\n",
    "class中的def会创建一个（属于cls命名空间中的）funcion object，通过`cls.m`获得。   \n",
    "而与具体实例绑定的 bound method 不存储函数实体，它只是是记录两个对象的引用：\n",
    "\n",
    "- 其宿主 `instance.__self__`\n",
    "- 定义在类中的函数实体 `instance.m.__func__` (is `cls.m`)\n",
    "\n",
    "当bound method 被调用时，实际执行的是`cls.m(instance.__self__, ...)`   \n",
    "该类所有实例的method，其函数实体`instance.m.__func__` 都指向同一个对象，即类创建时创建的 function object `cls.m`\n",
    "\n",
    "> 回忆quantx是怎么在R语言中实现“类”的？\n",
    "\n",
    "### 回到刚才的问题\n",
    "\n",
    "commit e785ee8 实际上是将属性设置在了cls.m上（定义在class namespace中，是函数对象），是错误的。\n",
    "\n",
    "```\n",
    "def dec(func):\n",
    "    def wrapper(*arg, **kw):\n",
    "        func.xx = xx              # ✔️ 不会报错，但注意，属性是设置在了 KLS.func上\n",
    "        return func(*arg, **kw)\n",
    "    return wrapper\n",
    "\n",
    "class KLS:\n",
    "    @dec\n",
    "    def foo:\n",
    "        setattr(self.bar, 'xx', xx)   # ❌ bounded method 不是函数对象，不可以设置属性\n",
    "        setattr(self.foo, 'xx, xx)  # ❌原因同上\n",
    "\n",
    "ins = KLS()\n",
    "ins.foo.xx = xx   # ❌ 原因同上\n",
    "```"
   ]
  },
  {
   "cell_type": "code",
   "execution_count": 26,
   "metadata": {},
   "outputs": [
    {
     "data": {
      "text/plain": [
       "False"
      ]
     },
     "execution_count": 26,
     "metadata": {},
     "output_type": "execute_result"
    }
   ],
   "source": [
    "m_bb.swap is m_bb2.swap   # different object, since it is bound method of two different istance"
   ]
  },
  {
   "cell_type": "code",
   "execution_count": 24,
   "metadata": {},
   "outputs": [
    {
     "data": {
      "text/plain": [
       "True"
      ]
     },
     "execution_count": 24,
     "metadata": {},
     "output_type": "execute_result"
    }
   ],
   "source": [
    "m_bb.swap.__func__ is m_bb2.swap.__func__  # same object ..."
   ]
  },
  {
   "cell_type": "code",
   "execution_count": 29,
   "metadata": {},
   "outputs": [
    {
     "data": {
      "text/plain": [
       "True"
      ]
     },
     "execution_count": 29,
     "metadata": {},
     "output_type": "execute_result"
    }
   ],
   "source": [
    "m_bb.swap.__func__ is BubbleSort.swap    # ... since they are all ref to cls.funcion"
   ]
  },
  {
   "cell_type": "code",
   "execution_count": 31,
   "metadata": {},
   "outputs": [
    {
     "data": {
      "text/plain": [
       "False"
      ]
     },
     "execution_count": 31,
     "metadata": {},
     "output_type": "execute_result"
    }
   ],
   "source": [
    "m_bb.swap is BubbleSort.swap   # bound method and cls.funcion is not same thing !"
   ]
  },
  {
   "cell_type": "code",
   "execution_count": 18,
   "metadata": {},
   "outputs": [
    {
     "data": {
      "text/plain": [
       "<function __main__.Sorting.swap(self, L, i, j)>"
      ]
     },
     "execution_count": 18,
     "metadata": {},
     "output_type": "execute_result"
    }
   ],
   "source": [
    "BubbleSort.swap  # it is function object !"
   ]
  },
  {
   "cell_type": "code",
   "execution_count": 19,
   "metadata": {},
   "outputs": [
    {
     "data": {
      "text/plain": [
       "<bound method Sorting.swap of <__main__.BubbleSort object at 0x1057068d0>>"
      ]
     },
     "execution_count": 19,
     "metadata": {},
     "output_type": "execute_result"
    }
   ],
   "source": [
    "m_bb.swap  # it is bound method"
   ]
  },
  {
   "cell_type": "code",
   "execution_count": 20,
   "metadata": {},
   "outputs": [
    {
     "data": {
      "text/plain": [
       "<bound method Sorting.swap of <__main__.BubbleSort object at 0x105706390>>"
      ]
     },
     "execution_count": 20,
     "metadata": {},
     "output_type": "execute_result"
    }
   ],
   "source": [
    "m_bb2.swap  # bound method of another istance"
   ]
  },
  {
   "cell_type": "code",
   "execution_count": null,
   "metadata": {},
   "outputs": [],
   "source": []
  },
  {
   "cell_type": "markdown",
   "metadata": {},
   "source": [
    "### 那么怎么实现“成员方法调用次数计数”这个需求呢？我自己想的一个实现：decorator最原始的语法\n",
    "\n",
    "> https://medium.com/@vadimpushtaev/decorator-inside-python-class-1e74d23107f6\n",
    "\n",
    "1. 直接在成员方法的`def`上加`@dec`并不work\n",
    "2. staticmethod也不行，因为 @staticmethod 对于inside class / outside class 的behavior不同"
   ]
  },
  {
   "cell_type": "code",
   "execution_count": 63,
   "metadata": {},
   "outputs": [],
   "source": [
    "class A(object):\n",
    "    def __init__(self):\n",
    "        print('calling __init__')\n",
    "        self.count_call_dict = {}\n",
    "        \n",
    "        self.a = self.count_call(self.a)\n",
    "        self.b = self.count_call(self.b)\n",
    "        \n",
    "    def a(self):\n",
    "        print('aaaaaaaaaaa')\n",
    "    \n",
    "    def b(self):\n",
    "        print('bbbbbbbbbbb')\n",
    "        \n",
    "    def count_call(self, func):\n",
    "        print('Calling count_call')\n",
    "        self.count_call_dict[func.__name__] = 0\n",
    "        def wrapper(*args, **kw):\n",
    "            print('func name is', func.__name__)\n",
    "            self.count_call_dict[func.__name__] += 1\n",
    "            return func(*args, **kw)\n",
    "        return wrapper"
   ]
  },
  {
   "cell_type": "code",
   "execution_count": 69,
   "metadata": {},
   "outputs": [
    {
     "name": "stdout",
     "output_type": "stream",
     "text": [
      "calling __init__\n",
      "Calling count_call\n",
      "Calling count_call\n",
      "calling __init__\n",
      "Calling count_call\n",
      "Calling count_call\n",
      "func name is a\n",
      "aaaaaaaaaaa\n",
      "func name is a\n",
      "aaaaaaaaaaa\n",
      "func name is a\n",
      "aaaaaaaaaaa\n",
      "func name is b\n",
      "bbbbbbbbbbb\n",
      "func name is b\n",
      "bbbbbbbbbbb\n",
      "func name is a\n",
      "aaaaaaaaaaa\n",
      "func name is a\n",
      "aaaaaaaaaaa\n",
      "func name is b\n",
      "bbbbbbbbbbb\n",
      "func name is b\n",
      "bbbbbbbbbbb\n",
      "{'a': 4, 'b': 2}\n",
      "{'a': 1, 'b': 2}\n"
     ]
    }
   ],
   "source": [
    "foooo = A()\n",
    "b___ = A()\n",
    "\n",
    "foooo.a(); foooo.a(); foooo.a()   # foooo.a = 3\n",
    "foooo.b(); foooo.b()              # foooo.b = 2\n",
    "b___.a()\n",
    "foooo.a()                         # foooo.a = 4\n",
    "b___.b(); b___.b()\n",
    "\n",
    "print(foooo.count_call_dict)\n",
    "print(b___.count_call_dict)"
   ]
  },
  {
   "cell_type": "code",
   "execution_count": null,
   "metadata": {},
   "outputs": [],
   "source": []
  },
  {
   "cell_type": "code",
   "execution_count": null,
   "metadata": {},
   "outputs": [],
   "source": []
  },
  {
   "cell_type": "markdown",
   "metadata": {},
   "source": [
    "## Python Notes: pass by assignment\n",
    "\n",
    "> [python document](https://docs.python.org/3/faq/programming.html#how-do-i-write-a-function-with-output-parameters-call-by-reference)    \n",
    "> \"Arguments are **passed by assignment** in Python.\"\n",
    "\n",
    "> [A blog](https://robertheaton.com/2014/02/09/pythons-pass-by-object-reference-as-explained-by-philip-k-dick/)    \n",
    "> What does it means by saying **\"Object references are passed by value\"**?\n",
    "\n",
    "> https://nedbatchelder.com/text/names1.html\n"
   ]
  },
  {
   "cell_type": "code",
   "execution_count": null,
   "metadata": {},
   "outputs": [],
   "source": []
  }
 ],
 "metadata": {
  "kernelspec": {
   "display_name": "Python 3",
   "language": "python",
   "name": "python3"
  },
  "language_info": {
   "codemirror_mode": {
    "name": "ipython",
    "version": 3
   },
   "file_extension": ".py",
   "mimetype": "text/x-python",
   "name": "python",
   "nbconvert_exporter": "python",
   "pygments_lexer": "ipython3",
   "version": "3.6.4"
  }
 },
 "nbformat": 4,
 "nbformat_minor": 2
}
