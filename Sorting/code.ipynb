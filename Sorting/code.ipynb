{
 "cells": [
  {
   "cell_type": "markdown",
   "metadata": {},
   "source": [
    "### Sorting, abstract class"
   ]
  },
  {
   "cell_type": "code",
   "execution_count": 1,
   "metadata": {},
   "outputs": [],
   "source": [
    "import numpy as np\n",
    "import functools\n",
    "import copy\n",
    "import operator\n",
    "\n",
    "\n",
    "class Sorting(object):\n",
    "    \"\"\"排序算法抽象类\n",
    "    \n",
    "    - 通用功能：交换和移动\n",
    "        + swap()\n",
    "        + move()\n",
    "    - 数据生成： random, almost sorted, reversed, few unique\n",
    "    - 性能分析： time: #swap, #move; space: \n",
    "    \"\"\"\n",
    "    \n",
    "    def __init__(self):\n",
    "        \n",
    "        # run & performance info\n",
    "        self.origin_L = None\n",
    "        self.L = None\n",
    "        self.N = None\n",
    "        \n",
    "        self.count_call_dict = {}\n",
    "        \n",
    "        self.alg_cmp = self.count_call(self.alg_cmp)\n",
    "        self.swap = self.count_call(self.swap)\n",
    "        self.copy_to = self.count_call(self.copy_to)\n",
    "    \n",
    "    @staticmethod\n",
    "    def generate_L(N=30, few_unique_nvalue=5, seed=123456):\n",
    "        np.random.seed(seed)\n",
    "        return {\n",
    "            'L_random': list(np.random.choice(range(N), size=N, replace=False)),\n",
    "            'L_sorted': list(range(N)),\n",
    "            'L_reversed': list(range(N, 0, -1)),\n",
    "            'L_few_unique': list(np.random.choice(range(few_unique_nvalue), size=N, replace=True)),\n",
    "        }\n",
    "    \n",
    "    # ------------ sort -----------------------------\n",
    "    def sort(self, L_):\n",
    "        L = copy.deepcopy(L_)\n",
    "        if True:\n",
    "            self.origin_L = copy.deepcopy(L)\n",
    "            self.L = L\n",
    "            self.N = len(L)\n",
    "            \n",
    "        self._sort(self.L)\n",
    "        \n",
    "        if True:\n",
    "            Sorting.check_sorted(self.L)\n",
    "            self.perfromance_summary()\n",
    "        \n",
    "    def _sort(self, L):\n",
    "        raise NotImplementedError\n",
    "        \n",
    "    # ------------ utils && performance analysis -----------------------------    \n",
    "    def count_call(self, func):\n",
    "        self.count_call_dict[func.__name__] = 0\n",
    "        @functools.wraps(func)\n",
    "        def wrapper(*args, **kw):\n",
    "            self.count_call_dict[func.__name__] += 1\n",
    "            return func(*args, **kw)\n",
    "        return wrapper\n",
    "    \n",
    "    def alg_cmp(self, a, op, b):\n",
    "        return op(a, b)\n",
    "    \n",
    "    def swap(self, L, i, j):\n",
    "        L[i], L[j] = L[j], L[i]\n",
    "        \n",
    "    def copy_to(self, L, i, value):\n",
    "        # L[i] = value   # value should be object that pass by value\n",
    "        L[i] = copy.deepcopy(value)   # just in case of\n",
    "            \n",
    "    def perfromance_summary(self):\n",
    "        print(self.origin_L)\n",
    "        print('inversion number:', Sorting.get_inversion_number(self.origin_L))\n",
    "        print(self.L, Sorting.check_sorted(self.L))\n",
    "        print('------------------------')\n",
    "        print('N =', self.N)\n",
    "        print('========= Theretical Analysis =========')\n",
    "        for (txt, f) in self.theretical_complexity():\n",
    "            print(txt, '-->', str(f(self.N)))\n",
    "        print('------------------------')\n",
    "        print('time complexity: ', self.count_call_dict)\n",
    "        print('space complexity:', )\n",
    "        \n",
    "    def theretical_complexity(self):\n",
    "        raise NotImplementedError\n",
    "        \n",
    "    @staticmethod\n",
    "    def get_inversion_number(L):\n",
    "        n = len(L)\n",
    "        return sum(L[i] > L[j] for i in range(n) for j in range(i+1, n))\n",
    "    \n",
    "    @staticmethod\n",
    "    def check_sorted(L):\n",
    "        return all(L[i] <= L[i+1] for i in range(len(L) - 1))"
   ]
  },
  {
   "cell_type": "code",
   "execution_count": 2,
   "metadata": {},
   "outputs": [],
   "source": [
    "data = Sorting.generate_L(N=20)\n",
    "L1 = data['L_random']\n",
    "L2 = data['L_few_unique']"
   ]
  },
  {
   "cell_type": "markdown",
   "metadata": {},
   "source": [
    "### Bubble Sort"
   ]
  },
  {
   "cell_type": "code",
   "execution_count": 47,
   "metadata": {},
   "outputs": [],
   "source": [
    "class BubbleSort(Sorting):\n",
    "    \"\"\"冒泡排序\"\"\"\n",
    "    \n",
    "    def _sort(self, L):\n",
    "        n = len(L)\n",
    "        for i in range(n):\n",
    "            for j in range(n-1, i, -1):\n",
    "                if self.alg_cmp(L[j-1], operator.__gt__, L[j]):\n",
    "                    self.swap(L, j-1, j)\n",
    "                    \n",
    "    def theretical_complexity(self):\n",
    "        return [\n",
    "            ('#cmp: N(N-1)/2', lambda N: N * (N-1) / 2),\n",
    "            ('#swap  bad-case reversed: N(N-1)/2', lambda N: N * (N-1) / 2),\n",
    "            ('#swap  good-case sorted: 0', lambda N: 0),\n",
    "            ('#space: 0', lambda N: 0)\n",
    "        ]"
   ]
  },
  {
   "cell_type": "code",
   "execution_count": 48,
   "metadata": {},
   "outputs": [
    {
     "name": "stdout",
     "output_type": "stream",
     "text": [
      "[19, 13, 12, 9, 5, 6, 2, 3, 18, 8, 4, 7, 0, 14, 16, 15, 11, 17, 10, 1]\n",
      "inversion number: 101\n",
      "[0, 1, 2, 3, 4, 5, 6, 7, 8, 9, 10, 11, 12, 13, 14, 15, 16, 17, 18, 19] True\n",
      "------------------------\n",
      "N = 20\n",
      "========= Theretical Analysis =========\n",
      "#cmp: N(N-1)/2 --> 190.0\n",
      "#swap  bad-case reversed: N(N-1)/2 --> 190.0\n",
      "#swap  good-case sorted: 0 --> 0\n",
      "#space: 0 --> 0\n",
      "------------------------\n",
      "time complexity:  {'alg_cmp': 190, 'swap': 101, 'copy_to': 0}\n",
      "space complexity:\n"
     ]
    }
   ],
   "source": [
    "m_bb = BubbleSort()\n",
    "m_bb.sort(L1)"
   ]
  },
  {
   "cell_type": "code",
   "execution_count": 49,
   "metadata": {},
   "outputs": [
    {
     "name": "stdout",
     "output_type": "stream",
     "text": [
      "[4, 4, 4, 4, 3, 1, 4, 3, 3, 0, 4, 2, 2, 0, 3, 4, 2, 1, 2, 4]\n",
      "inversion number: 100\n",
      "[0, 0, 1, 1, 2, 2, 2, 2, 3, 3, 3, 3, 4, 4, 4, 4, 4, 4, 4, 4] True\n",
      "------------------------\n",
      "N = 20\n",
      "========= Theretical Analysis =========\n",
      "#cmp: N(N-1)/2 --> 190.0\n",
      "#swap  bad-case reversed: N(N-1)/2 --> 190.0\n",
      "#swap  good-case sorted: 0 --> 0\n",
      "#space: 0 --> 0\n",
      "------------------------\n",
      "time complexity:  {'alg_cmp': 190, 'swap': 100, 'copy_to': 0}\n",
      "space complexity:\n"
     ]
    }
   ],
   "source": [
    "m_bb2 = BubbleSort()\n",
    "m_bb2.sort(L2)"
   ]
  },
  {
   "cell_type": "markdown",
   "metadata": {},
   "source": [
    "### Selection Sort"
   ]
  },
  {
   "cell_type": "code",
   "execution_count": 50,
   "metadata": {},
   "outputs": [],
   "source": [
    "class SelectionSort(Sorting):\n",
    "    \"\"\"选择排序\"\"\"\n",
    "    \n",
    "    def _sort(self, L):\n",
    "        n = len(L)\n",
    "        for i in range(n):\n",
    "            min_idx = i\n",
    "            for j in range(i+1, n):\n",
    "                if self.alg_cmp(L[j], operator.__lt__, L[min_idx]):\n",
    "                    min_idx = j\n",
    "            if min_idx > i:\n",
    "                self.swap(L, i, min_idx)  # if min_idx > i, 这个比较算不算在时间复杂度内？\n",
    "                    \n",
    "    def theretical_complexity(self):\n",
    "        return [\n",
    "            ('#cmp: N(N-1)/2', lambda N: N * (N-1) / 2),\n",
    "            ('#swap  bad-case(most case, swap for all i): N', lambda N: N),\n",
    "            ('#swap  good-case(sorted): 0', lambda N: 0),\n",
    "            ('#space: 0', lambda N: 0)\n",
    "        ]"
   ]
  },
  {
   "cell_type": "code",
   "execution_count": 51,
   "metadata": {},
   "outputs": [
    {
     "name": "stdout",
     "output_type": "stream",
     "text": [
      "[19, 13, 12, 9, 5, 6, 2, 3, 18, 8, 4, 7, 0, 14, 16, 15, 11, 17, 10, 1]\n",
      "inversion number: 101\n",
      "[0, 1, 2, 3, 4, 5, 6, 7, 8, 9, 10, 11, 12, 13, 14, 15, 16, 17, 18, 19] True\n",
      "------------------------\n",
      "N = 20\n",
      "========= Theretical Analysis =========\n",
      "#cmp: N(N-1)/2 --> 190.0\n",
      "#swap  bad-case(most case, swap for all i): N --> 20\n",
      "#swap  good-case(sorted): 0 --> 0\n",
      "#space: 0 --> 0\n",
      "------------------------\n",
      "time complexity:  {'alg_cmp': 190, 'swap': 17, 'copy_to': 0}\n",
      "space complexity:\n"
     ]
    }
   ],
   "source": [
    "m_selection = SelectionSort()\n",
    "m_selection.sort(L1)"
   ]
  },
  {
   "cell_type": "code",
   "execution_count": 52,
   "metadata": {},
   "outputs": [
    {
     "name": "stdout",
     "output_type": "stream",
     "text": [
      "[4, 4, 4, 4, 3, 1, 4, 3, 3, 0, 4, 2, 2, 0, 3, 4, 2, 1, 2, 4]\n",
      "inversion number: 100\n",
      "[0, 0, 1, 1, 2, 2, 2, 2, 3, 3, 3, 3, 4, 4, 4, 4, 4, 4, 4, 4] True\n",
      "------------------------\n",
      "N = 20\n",
      "========= Theretical Analysis =========\n",
      "#cmp: N(N-1)/2 --> 190.0\n",
      "#swap  bad-case(most case, swap for all i): N --> 20\n",
      "#swap  good-case(sorted): 0 --> 0\n",
      "#space: 0 --> 0\n",
      "------------------------\n",
      "time complexity:  {'alg_cmp': 190, 'swap': 11, 'copy_to': 0}\n",
      "space complexity:\n"
     ]
    }
   ],
   "source": [
    "m_selection2 = SelectionSort()\n",
    "m_selection2.sort(L2)"
   ]
  },
  {
   "cell_type": "code",
   "execution_count": 53,
   "metadata": {},
   "outputs": [
    {
     "name": "stdout",
     "output_type": "stream",
     "text": [
      "[0, 0, 0, 1, 1, 1]\n",
      "inversion number: 0\n",
      "[0, 0, 0, 1, 1, 1] True\n",
      "------------------------\n",
      "N = 6\n",
      "========= Theretical Analysis =========\n",
      "#cmp: N(N-1)/2 --> 15.0\n",
      "#swap  bad-case(most case, swap for all i): N --> 6\n",
      "#swap  good-case(sorted): 0 --> 0\n",
      "#space: 0 --> 0\n",
      "------------------------\n",
      "time complexity:  {'alg_cmp': 15, 'swap': 0, 'copy_to': 0}\n",
      "space complexity:\n"
     ]
    }
   ],
   "source": [
    "m_selection3 = SelectionSort()\n",
    "m_selection3.sort([0, 0, 0, 1, 1, 1])"
   ]
  },
  {
   "cell_type": "markdown",
   "metadata": {},
   "source": [
    "### Insertion Sort"
   ]
  },
  {
   "cell_type": "code",
   "execution_count": null,
   "metadata": {},
   "outputs": [],
   "source": []
  },
  {
   "cell_type": "code",
   "execution_count": 69,
   "metadata": {},
   "outputs": [],
   "source": [
    "class InsertionSort(Sorting):\n",
    "    \"\"\"插入排序\"\"\"\n",
    "    \n",
    "    def _sort(self, L):\n",
    "        n = len(L)\n",
    "        L.append(None)\n",
    "        TMP = n\n",
    "        \n",
    "        # [  0, x, x, x, x, x, x, x,   i-1,   i,  ]\n",
    "        # [j=0 <------------j------- j=i-1,   i,  ]\n",
    "        # [                 k >>>>>>>>>>>>>>>>|,  ]\n",
    "        for i in range(n):\n",
    "            for j in reversed(range(i)):\n",
    "                if self.alg_cmp(L[i], operator.__ge__, L[j]):  # L[i] 放到 j 后面\n",
    "                    self.copy_to(L, TMP, L[i])\n",
    "                    # tmp_storage = copy.deepcopy(L[i])  # todo: copy_to\n",
    "                    for k in range(i, j+1, -1):\n",
    "                        self.copy_to(L, k, L[k-1])\n",
    "                        #L[k] = copy.deepcopy(L[k-1])\n",
    "                    self.copy_to(L, j+1, L[TMP])\n",
    "                    #L[j+1] = copy.deepcopy(tmp_storage)\n",
    "                    break\n",
    "                    \n",
    "            # here j == 0, if not break\n",
    "            if L[i] < L[0]:\n",
    "                self.copy_to(L, TMP, L[i])\n",
    "                # tmp_storage = copy.deepcopy(L[i])\n",
    "                for k in range(i, 0, -1):\n",
    "                    self.copy_to(L, k, L[k-1])\n",
    "                    #L[k] = copy.deepcopy(L[k-1])\n",
    "                self.copy_to(L, 0, L[TMP])\n",
    "                #L[0] = copy.deepcopy(tmp_storage)\n",
    "        del L[TMP]\n",
    "                    \n",
    "    def theretical_complexity(self):\n",
    "        return [\n",
    "            ('#cmp bad-case(reversed): 1 + ... + N-1 = N(N-1)/2', lambda N: N * (N-1) / 2),\n",
    "            ('#cmp good-case(sorted): N-1', lambda N: N-1),\n",
    "            ('#copy  bad-case(reversed): 3 + ... + N+1 = (N+4)(N-1) / 2', lambda N: (N+4) * (N-1) / 2),\n",
    "            ('#copy  good-case(sorted): 2(N-1)', lambda N: 2 * (N-1)),\n",
    "            ('#space: 1', lambda N: 1)\n",
    "        ]"
   ]
  },
  {
   "cell_type": "code",
   "execution_count": 70,
   "metadata": {},
   "outputs": [
    {
     "name": "stdout",
     "output_type": "stream",
     "text": [
      "[19, 13, 12, 9, 5, 6, 2, 3, 18, 8, 4, 7, 0, 14, 16, 15, 11, 17, 10, 1]\n",
      "inversion number: 101\n",
      "[0, 1, 2, 3, 4, 5, 6, 7, 8, 9, 10, 11, 12, 13, 14, 15, 16, 17, 18, 19] True\n",
      "------------------------\n",
      "N = 20\n",
      "========= Theretical Analysis =========\n",
      "#cmp bad-case(reversed): 1 + ... + N-1 = N(N-1)/2 --> 190.0\n",
      "#cmp good-case(sorted): N-1 --> 19\n",
      "#copy  bad-case(reversed): 3 + ... + N+1 = (N+4)(N-1) / 2 --> 228.0\n",
      "#copy  good-case(sorted): 2(N-1) --> 38\n",
      "#space: 1 --> 1\n",
      "------------------------\n",
      "time complexity:  {'alg_cmp': 114, 'swap': 0, 'copy_to': 139}\n",
      "space complexity:\n"
     ]
    }
   ],
   "source": [
    "m_insert = InsertionSort()\n",
    "m_insert.sort(L1)"
   ]
  },
  {
   "cell_type": "code",
   "execution_count": 71,
   "metadata": {},
   "outputs": [
    {
     "name": "stdout",
     "output_type": "stream",
     "text": [
      "[4, 4, 4, 4, 3, 1, 4, 3, 3, 0, 4, 2, 2, 0, 3, 4, 2, 1, 2, 4]\n",
      "inversion number: 100\n",
      "[0, 0, 1, 1, 2, 2, 2, 2, 3, 3, 3, 3, 4, 4, 4, 4, 4, 4, 4, 4] True\n",
      "------------------------\n",
      "N = 20\n",
      "========= Theretical Analysis =========\n",
      "#cmp bad-case(reversed): 1 + ... + N-1 = N(N-1)/2 --> 190.0\n",
      "#cmp good-case(sorted): N-1 --> 19\n",
      "#copy  bad-case(reversed): 3 + ... + N+1 = (N+4)(N-1) / 2 --> 228.0\n",
      "#copy  good-case(sorted): 2(N-1) --> 38\n",
      "#space: 1 --> 1\n",
      "------------------------\n",
      "time complexity:  {'alg_cmp': 116, 'swap': 0, 'copy_to': 138}\n",
      "space complexity:\n"
     ]
    }
   ],
   "source": [
    "m_insert2 = InsertionSort()\n",
    "m_insert2.sort(L2)"
   ]
  },
  {
   "cell_type": "code",
   "execution_count": 74,
   "metadata": {},
   "outputs": [
    {
     "name": "stdout",
     "output_type": "stream",
     "text": [
      "[0, 1, 2, 3, 4, 5, 1]\n",
      "inversion number: 4\n",
      "[0, 1, 1, 2, 3, 4, 5] True\n",
      "------------------------\n",
      "N = 7\n",
      "========= Theretical Analysis =========\n",
      "#cmp bad-case(reversed): 1 + ... + N-1 = N(N-1)/2 --> 21.0\n",
      "#cmp good-case(sorted): N-1 --> 6\n",
      "#copy  bad-case(reversed): 3 + ... + N+1 = (N+4)(N-1) / 2 --> 33.0\n",
      "#copy  good-case(sorted): 2(N-1) --> 12\n",
      "#space: 1 --> 1\n",
      "------------------------\n",
      "time complexity:  {'alg_cmp': 10, 'swap': 0, 'copy_to': 16}\n",
      "space complexity:\n"
     ]
    }
   ],
   "source": [
    "m_insert3 = InsertionSort()\n",
    "m_insert3.sort([0, 1, 2, 3, 4, 5, 1])"
   ]
  },
  {
   "cell_type": "code",
   "execution_count": null,
   "metadata": {},
   "outputs": [],
   "source": []
  },
  {
   "cell_type": "markdown",
   "metadata": {},
   "source": [
    "## Shell Sort: to FIX"
   ]
  },
  {
   "cell_type": "code",
   "execution_count": 193,
   "metadata": {},
   "outputs": [],
   "source": [
    "class ShellSort(Sorting):\n",
    "    \"\"\"希尔排序\"\"\"\n",
    "    \n",
    "    def _sort(self, L):\n",
    "        n = len(L)\n",
    "        inc = n\n",
    "        tmpL = [None]\n",
    "        while inc > 1:\n",
    "            inc = int(inc / 3 + 1)\n",
    "            for i in range(inc):\n",
    "                idxs = list(range(i, n, inc))\n",
    "                print('---> ', idxs)\n",
    "                # [    ==     ==     ==    ==      ==   ==   ]\n",
    "                # [    ==      ==    j     last_j  ==   ==   ]\n",
    "                #                                       tmpL ]\n",
    "                \n",
    "                self.copy_to(tmpL, 0, L[idxs[-1]])\n",
    "                print('----> tmpL = ', tmpL[0])\n",
    "                \n",
    "                last_j = idxs[-1]\n",
    "                for j in reversed(idxs[:-1]):\n",
    "                    print(j, last_j)\n",
    "                    if L[j] > tmpL[0]:\n",
    "                        print('move>>>', j, ' to ', last_j)\n",
    "                        self.copy_to(L, last_j, L[j])\n",
    "                        last_j = j\n",
    "                    else:\n",
    "                        print('move [tmpL] >>>>>> ', tmpL[0], 'to >>>>>', last_j)\n",
    "                        self.copy_to(L, last_j, tmpL[0])\n",
    "                        tmpL[0] = None\n",
    "                        print('L is', L)\n",
    "                        print('====== break ========')\n",
    "                        last_j = j\n",
    "                        break\n",
    "                if j == idxs[0] and tmpL[0]:\n",
    "                    print('hit the beginning of j, j=', j)\n",
    "                    self.copy_to(L, j, tmpL[0])\n",
    "                    print('L is ', L)\n",
    "                print('--------------------------------')\n",
    "        print('finished')"
   ]
  },
  {
   "cell_type": "code",
   "execution_count": 194,
   "metadata": {},
   "outputs": [
    {
     "data": {
      "text/plain": [
       "True"
      ]
     },
     "execution_count": 194,
     "metadata": {},
     "output_type": "execute_result"
    }
   ],
   "source": [
    "bool(np.nan)"
   ]
  },
  {
   "cell_type": "code",
   "execution_count": 195,
   "metadata": {},
   "outputs": [
    {
     "name": "stdout",
     "output_type": "stream",
     "text": [
      "--->  [0, 3, 6]\n",
      "----> tmpL =  -9\n",
      "3 6\n",
      "move>>> 3  to  6\n",
      "0 3\n",
      "move>>> 0  to  3\n",
      "hit the beginning of j, j= 0\n",
      "L is  [-9, 1, 2, 0, 4, 5, 3]\n",
      "--------------------------------\n",
      "--->  [1, 4]\n",
      "----> tmpL =  4\n",
      "1 4\n",
      "move [tmpL] >>>>>>  4 to >>>>> 4\n",
      "L is [-9, 1, 2, 0, 4, 5, 3]\n",
      "====== break ========\n",
      "--------------------------------\n",
      "--->  [2, 5]\n",
      "----> tmpL =  5\n",
      "2 5\n",
      "move [tmpL] >>>>>>  5 to >>>>> 5\n",
      "L is [-9, 1, 2, 0, 4, 5, 3]\n",
      "====== break ========\n",
      "--------------------------------\n",
      "--->  [0, 2, 4, 6]\n",
      "----> tmpL =  3\n",
      "4 6\n",
      "move>>> 4  to  6\n",
      "2 4\n",
      "move [tmpL] >>>>>>  3 to >>>>> 4\n",
      "L is [-9, 1, 2, 0, 3, 5, 4]\n",
      "====== break ========\n",
      "--------------------------------\n",
      "--->  [1, 3, 5]\n",
      "----> tmpL =  5\n",
      "3 5\n",
      "move [tmpL] >>>>>>  5 to >>>>> 5\n",
      "L is [-9, 1, 2, 0, 3, 5, 4]\n",
      "====== break ========\n",
      "--------------------------------\n",
      "--->  [0, 1, 2, 3, 4, 5, 6]\n",
      "----> tmpL =  4\n",
      "5 6\n",
      "move>>> 5  to  6\n",
      "4 5\n",
      "move [tmpL] >>>>>>  4 to >>>>> 5\n",
      "L is [-9, 1, 2, 0, 3, 4, 5]\n",
      "====== break ========\n",
      "--------------------------------\n",
      "finished\n",
      "[0, 1, 2, 3, 4, 5, -9]\n",
      "inversion number: 6\n",
      "[-9, 1, 2, 0, 3, 4, 5] False\n",
      "------------------------\n",
      "N = 7\n",
      "========= Theretical Analysis =========\n"
     ]
    },
    {
     "ename": "NotImplementedError",
     "evalue": "",
     "output_type": "error",
     "traceback": [
      "\u001b[0;31m---------------------------------------------------------------------------\u001b[0m",
      "\u001b[0;31mNotImplementedError\u001b[0m                       Traceback (most recent call last)",
      "\u001b[0;32m<ipython-input-195-928231dca179>\u001b[0m in \u001b[0;36m<module>\u001b[0;34m\u001b[0m\n\u001b[0;32m----> 1\u001b[0;31m \u001b[0mShellSort\u001b[0m\u001b[0;34m(\u001b[0m\u001b[0;34m)\u001b[0m\u001b[0;34m.\u001b[0m\u001b[0msort\u001b[0m\u001b[0;34m(\u001b[0m\u001b[0;34m[\u001b[0m\u001b[0;36m0\u001b[0m\u001b[0;34m,\u001b[0m \u001b[0;36m1\u001b[0m\u001b[0;34m,\u001b[0m \u001b[0;36m2\u001b[0m\u001b[0;34m,\u001b[0m \u001b[0;36m3\u001b[0m\u001b[0;34m,\u001b[0m \u001b[0;36m4\u001b[0m\u001b[0;34m,\u001b[0m \u001b[0;36m5\u001b[0m\u001b[0;34m,\u001b[0m \u001b[0;34m-\u001b[0m\u001b[0;36m9\u001b[0m\u001b[0;34m]\u001b[0m\u001b[0;34m)\u001b[0m\u001b[0;34m\u001b[0m\u001b[0m\n\u001b[0m",
      "\u001b[0;32m<ipython-input-45-8b156a1eb51a>\u001b[0m in \u001b[0;36msort\u001b[0;34m(self, L_)\u001b[0m\n\u001b[1;32m     50\u001b[0m         \u001b[0;32mif\u001b[0m \u001b[0;32mTrue\u001b[0m\u001b[0;34m:\u001b[0m\u001b[0;34m\u001b[0m\u001b[0m\n\u001b[1;32m     51\u001b[0m             \u001b[0mSorting\u001b[0m\u001b[0;34m.\u001b[0m\u001b[0mcheck_sorted\u001b[0m\u001b[0;34m(\u001b[0m\u001b[0mself\u001b[0m\u001b[0;34m.\u001b[0m\u001b[0mL\u001b[0m\u001b[0;34m)\u001b[0m\u001b[0;34m\u001b[0m\u001b[0m\n\u001b[0;32m---> 52\u001b[0;31m             \u001b[0mself\u001b[0m\u001b[0;34m.\u001b[0m\u001b[0mperfromance_summary\u001b[0m\u001b[0;34m(\u001b[0m\u001b[0;34m)\u001b[0m\u001b[0;34m\u001b[0m\u001b[0m\n\u001b[0m\u001b[1;32m     53\u001b[0m \u001b[0;34m\u001b[0m\u001b[0m\n\u001b[1;32m     54\u001b[0m     \u001b[0;32mdef\u001b[0m \u001b[0m_sort\u001b[0m\u001b[0;34m(\u001b[0m\u001b[0mself\u001b[0m\u001b[0;34m,\u001b[0m \u001b[0mL\u001b[0m\u001b[0;34m)\u001b[0m\u001b[0;34m:\u001b[0m\u001b[0;34m\u001b[0m\u001b[0m\n",
      "\u001b[0;32m<ipython-input-45-8b156a1eb51a>\u001b[0m in \u001b[0;36mperfromance_summary\u001b[0;34m(self)\u001b[0m\n\u001b[1;32m     81\u001b[0m         \u001b[0mprint\u001b[0m\u001b[0;34m(\u001b[0m\u001b[0;34m'N ='\u001b[0m\u001b[0;34m,\u001b[0m \u001b[0mself\u001b[0m\u001b[0;34m.\u001b[0m\u001b[0mN\u001b[0m\u001b[0;34m)\u001b[0m\u001b[0;34m\u001b[0m\u001b[0m\n\u001b[1;32m     82\u001b[0m         \u001b[0mprint\u001b[0m\u001b[0;34m(\u001b[0m\u001b[0;34m'========= Theretical Analysis ========='\u001b[0m\u001b[0;34m)\u001b[0m\u001b[0;34m\u001b[0m\u001b[0m\n\u001b[0;32m---> 83\u001b[0;31m         \u001b[0;32mfor\u001b[0m \u001b[0;34m(\u001b[0m\u001b[0mtxt\u001b[0m\u001b[0;34m,\u001b[0m \u001b[0mf\u001b[0m\u001b[0;34m)\u001b[0m \u001b[0;32min\u001b[0m \u001b[0mself\u001b[0m\u001b[0;34m.\u001b[0m\u001b[0mtheretical_complexity\u001b[0m\u001b[0;34m(\u001b[0m\u001b[0;34m)\u001b[0m\u001b[0;34m:\u001b[0m\u001b[0;34m\u001b[0m\u001b[0m\n\u001b[0m\u001b[1;32m     84\u001b[0m             \u001b[0mprint\u001b[0m\u001b[0;34m(\u001b[0m\u001b[0mtxt\u001b[0m\u001b[0;34m,\u001b[0m \u001b[0;34m'-->'\u001b[0m\u001b[0;34m,\u001b[0m \u001b[0mstr\u001b[0m\u001b[0;34m(\u001b[0m\u001b[0mf\u001b[0m\u001b[0;34m(\u001b[0m\u001b[0mself\u001b[0m\u001b[0;34m.\u001b[0m\u001b[0mN\u001b[0m\u001b[0;34m)\u001b[0m\u001b[0;34m)\u001b[0m\u001b[0;34m)\u001b[0m\u001b[0;34m\u001b[0m\u001b[0m\n\u001b[1;32m     85\u001b[0m         \u001b[0mprint\u001b[0m\u001b[0;34m(\u001b[0m\u001b[0;34m'------------------------'\u001b[0m\u001b[0;34m)\u001b[0m\u001b[0;34m\u001b[0m\u001b[0m\n",
      "\u001b[0;32m<ipython-input-45-8b156a1eb51a>\u001b[0m in \u001b[0;36mtheretical_complexity\u001b[0;34m(self)\u001b[0m\n\u001b[1;32m     88\u001b[0m \u001b[0;34m\u001b[0m\u001b[0m\n\u001b[1;32m     89\u001b[0m     \u001b[0;32mdef\u001b[0m \u001b[0mtheretical_complexity\u001b[0m\u001b[0;34m(\u001b[0m\u001b[0mself\u001b[0m\u001b[0;34m)\u001b[0m\u001b[0;34m:\u001b[0m\u001b[0;34m\u001b[0m\u001b[0m\n\u001b[0;32m---> 90\u001b[0;31m         \u001b[0;32mraise\u001b[0m \u001b[0mNotImplementedError\u001b[0m\u001b[0;34m\u001b[0m\u001b[0m\n\u001b[0m\u001b[1;32m     91\u001b[0m \u001b[0;34m\u001b[0m\u001b[0m\n\u001b[1;32m     92\u001b[0m     \u001b[0;34m@\u001b[0m\u001b[0mstaticmethod\u001b[0m\u001b[0;34m\u001b[0m\u001b[0m\n",
      "\u001b[0;31mNotImplementedError\u001b[0m: "
     ]
    }
   ],
   "source": [
    "ShellSort().sort([0, 1, 2, 3, 4, 5, -9])"
   ]
  },
  {
   "cell_type": "code",
   "execution_count": null,
   "metadata": {},
   "outputs": [],
   "source": []
  },
  {
   "cell_type": "markdown",
   "metadata": {},
   "source": [
    "## Merge Sort"
   ]
  },
  {
   "cell_type": "code",
   "execution_count": 20,
   "metadata": {},
   "outputs": [],
   "source": [
    "class MergeSort(Sorting):\n",
    "    \"\"\"归并排序\"\"\"\n",
    "    \n",
    "    def _sort(self, L):\n",
    "        # import pdb; pdb.set_trace()\n",
    "        self._merge_sort(L, 0, len(L))\n",
    "        \n",
    "    def _merge_sort(self, L, start, end):\n",
    "        n = len(L[start:end])\n",
    "        \n",
    "        if n == 0 or n == 1:\n",
    "            return\n",
    "        \n",
    "        sep = start + int(n / 2)\n",
    "        \n",
    "        self._merge_sort(L, start, sep)\n",
    "        self._merge_sort(L, sep, end)\n",
    "        \n",
    "        # [   start      SEP    end    ]\n",
    "        # [     i >>>>>>>|j >>>>> |    ]\n",
    "        \n",
    "        i, j = start, sep\n",
    "        new_L = []\n",
    "        \n",
    "        while True:\n",
    "            if self.alg_cmp(L[i], operator.__le__, L[j]):\n",
    "                new_L.append(L[i])\n",
    "                i += 1\n",
    "                if i >= sep:\n",
    "                    new_L.extend(L[j:])\n",
    "                    break\n",
    "            else:\n",
    "                new_L.append(L[j])\n",
    "                j += 1\n",
    "                if j >= end:\n",
    "                    new_L.extend(L[i:sep])\n",
    "                    break\n",
    "                    \n",
    "        for idx, k in zip(range(start, end), range(n)):\n",
    "            L[idx] = new_L[k]\n",
    "            \n",
    "    def theretical_complexity(self):\n",
    "        return [\n",
    "            ('#cmp bad-case(reversed): nLog2(n)', lambda n: n * np.log2(n)),\n",
    "            ('#cmp good-case(sorted): 1/2 * nLog2(n)', lambda n: 0.5 * n * np.log2(n)),\n",
    "            ('#copy  [fix]: nLog2(n)', lambda n: n * np.log2(n)),\n",
    "            ('#space: nLog2(n)', lambda n: n * np.log2(n))\n",
    "        ]              "
   ]
  },
  {
   "cell_type": "code",
   "execution_count": 21,
   "metadata": {},
   "outputs": [
    {
     "name": "stdout",
     "output_type": "stream",
     "text": [
      "[19, 13, 12, 9, 5, 6, 2, 3, 18, 8, 4, 7, 0, 14, 16, 15, 11, 17, 10, 1]\n",
      "inversion number: 101\n",
      "[0, 1, 2, 3, 4, 5, 6, 7, 8, 9, 10, 11, 12, 13, 14, 15, 16, 17, 18, 19] True\n",
      "------------------------\n",
      "N = 20\n",
      "========= Theretical Analysis =========\n",
      "#cmp bad-case(reversed): nLog2(n) --> 86.43856189774725\n",
      "#cmp good-case(sorted): 1/2 * nLog2(n) --> 43.219280948873624\n",
      "#copy  [fix]: nLog2(n) --> 86.43856189774725\n",
      "#space: nLog2(n) --> 86.43856189774725\n",
      "------------------------\n",
      "time complexity:  {'alg_cmp': 63, 'swap': 0, 'copy_to': 0}\n",
      "space complexity:\n"
     ]
    }
   ],
   "source": [
    "ms = MergeSort()\n",
    "ms.sort(L1)"
   ]
  },
  {
   "cell_type": "code",
   "execution_count": null,
   "metadata": {},
   "outputs": [],
   "source": []
  },
  {
   "cell_type": "markdown",
   "metadata": {},
   "source": [
    "## Quick Sort: TOFIX"
   ]
  },
  {
   "cell_type": "code",
   "execution_count": 53,
   "metadata": {},
   "outputs": [],
   "source": [
    "class QuickSort(Sorting):\n",
    "    \"\"\"快速排序\"\"\"\n",
    "    \n",
    "    def _sort(self, L):\n",
    "        n = len(L)\n",
    "        self.__quick_sort(L, 0, n)\n",
    "        \n",
    "    def __quick_sort(self, L, low, high):\n",
    "        \n",
    "        if low + 1 >= high:\n",
    "            return\n",
    "        \n",
    "        pivoit = self.__partition(L, low, high)\n",
    "        self.__quick_sort(L, low, pivoit)   # [low, pivoit)\n",
    "        self.__quick_sort(L, pivoit, high)  # [pivoit, high)\n",
    "        \n",
    "    def __partition(self, L, low, high):\n",
    "        \n",
    "        print('==========================>>> partition')\n",
    "        pivoit_value = np.mean(L[low:high])  # hack\n",
    "        print('pivoit_value is ', pivoit_value)\n",
    "        high -= 1\n",
    "        \n",
    "        while low + 1 < high:\n",
    "            print(L[low:high])\n",
    "            print('[', low, ',', high, ')')\n",
    "            if L[low] < pivoit_value:\n",
    "                low += 1\n",
    "                low_toex = None\n",
    "            else:\n",
    "                low_toex = low\n",
    "            if L[high] >= pivoit_value:\n",
    "                high -= 1\n",
    "                high_toex = None\n",
    "            else:\n",
    "                high_toex = high\n",
    "                \n",
    "            if low_toex and high_toex:\n",
    "                self.swap(L, low_toex, high_toex)\n",
    "                low_toex, high_toex = None, None\n",
    "                \n",
    "        return high"
   ]
  },
  {
   "cell_type": "code",
   "execution_count": 54,
   "metadata": {},
   "outputs": [
    {
     "name": "stdout",
     "output_type": "stream",
     "text": [
      "==========================>>> partition\n",
      "pivoit_value is  4.5\n",
      "[1, 5, 2, 7, 9]\n",
      "[ 0 , 5 )\n",
      "[5, 2, 7, 9]\n",
      "[ 1 , 5 )\n",
      "[3, 2, 7, 9]\n",
      "[ 1 , 5 )\n",
      "[2, 7]\n",
      "[ 2 , 4 )\n",
      "==========================>>> partition\n",
      "pivoit_value is  2.0\n",
      "[1, 3]\n",
      "[ 0 , 2 )\n",
      "==========================>>> partition\n",
      "pivoit_value is  2.5\n",
      "==========================>>> partition\n",
      "pivoit_value is  7.0\n",
      "[7, 9]\n",
      "[ 3 , 5 )\n",
      "[5, 9]\n",
      "[ 3 , 5 )\n",
      "==========================>>> partition\n",
      "pivoit_value is  8.0\n",
      "[1, 5, 2, 7, 9, 3]\n",
      "inversion number: 4\n",
      "[1, 3, 2, 5, 9, 7] False\n",
      "------------------------\n",
      "N = 6\n",
      "========= Theretical Analysis =========\n"
     ]
    },
    {
     "ename": "NotImplementedError",
     "evalue": "",
     "output_type": "error",
     "traceback": [
      "\u001b[0;31m---------------------------------------------------------------------------\u001b[0m",
      "\u001b[0;31mNotImplementedError\u001b[0m                       Traceback (most recent call last)",
      "\u001b[0;32m<ipython-input-54-56a9842d8fcd>\u001b[0m in \u001b[0;36m<module>\u001b[0;34m\u001b[0m\n\u001b[1;32m      1\u001b[0m \u001b[0mmq\u001b[0m \u001b[0;34m=\u001b[0m \u001b[0mQuickSort\u001b[0m\u001b[0;34m(\u001b[0m\u001b[0;34m)\u001b[0m\u001b[0;34m\u001b[0m\u001b[0m\n\u001b[0;32m----> 2\u001b[0;31m \u001b[0mmq\u001b[0m\u001b[0;34m.\u001b[0m\u001b[0msort\u001b[0m\u001b[0;34m(\u001b[0m\u001b[0;34m[\u001b[0m\u001b[0;36m1\u001b[0m\u001b[0;34m,\u001b[0m\u001b[0;36m5\u001b[0m\u001b[0;34m,\u001b[0m\u001b[0;36m2\u001b[0m\u001b[0;34m,\u001b[0m\u001b[0;36m7\u001b[0m\u001b[0;34m,\u001b[0m\u001b[0;36m9\u001b[0m\u001b[0;34m,\u001b[0m\u001b[0;36m3\u001b[0m\u001b[0;34m]\u001b[0m\u001b[0;34m)\u001b[0m\u001b[0;34m\u001b[0m\u001b[0m\n\u001b[0m",
      "\u001b[0;32m<ipython-input-1-8b156a1eb51a>\u001b[0m in \u001b[0;36msort\u001b[0;34m(self, L_)\u001b[0m\n\u001b[1;32m     50\u001b[0m         \u001b[0;32mif\u001b[0m \u001b[0;32mTrue\u001b[0m\u001b[0;34m:\u001b[0m\u001b[0;34m\u001b[0m\u001b[0m\n\u001b[1;32m     51\u001b[0m             \u001b[0mSorting\u001b[0m\u001b[0;34m.\u001b[0m\u001b[0mcheck_sorted\u001b[0m\u001b[0;34m(\u001b[0m\u001b[0mself\u001b[0m\u001b[0;34m.\u001b[0m\u001b[0mL\u001b[0m\u001b[0;34m)\u001b[0m\u001b[0;34m\u001b[0m\u001b[0m\n\u001b[0;32m---> 52\u001b[0;31m             \u001b[0mself\u001b[0m\u001b[0;34m.\u001b[0m\u001b[0mperfromance_summary\u001b[0m\u001b[0;34m(\u001b[0m\u001b[0;34m)\u001b[0m\u001b[0;34m\u001b[0m\u001b[0m\n\u001b[0m\u001b[1;32m     53\u001b[0m \u001b[0;34m\u001b[0m\u001b[0m\n\u001b[1;32m     54\u001b[0m     \u001b[0;32mdef\u001b[0m \u001b[0m_sort\u001b[0m\u001b[0;34m(\u001b[0m\u001b[0mself\u001b[0m\u001b[0;34m,\u001b[0m \u001b[0mL\u001b[0m\u001b[0;34m)\u001b[0m\u001b[0;34m:\u001b[0m\u001b[0;34m\u001b[0m\u001b[0m\n",
      "\u001b[0;32m<ipython-input-1-8b156a1eb51a>\u001b[0m in \u001b[0;36mperfromance_summary\u001b[0;34m(self)\u001b[0m\n\u001b[1;32m     81\u001b[0m         \u001b[0mprint\u001b[0m\u001b[0;34m(\u001b[0m\u001b[0;34m'N ='\u001b[0m\u001b[0;34m,\u001b[0m \u001b[0mself\u001b[0m\u001b[0;34m.\u001b[0m\u001b[0mN\u001b[0m\u001b[0;34m)\u001b[0m\u001b[0;34m\u001b[0m\u001b[0m\n\u001b[1;32m     82\u001b[0m         \u001b[0mprint\u001b[0m\u001b[0;34m(\u001b[0m\u001b[0;34m'========= Theretical Analysis ========='\u001b[0m\u001b[0;34m)\u001b[0m\u001b[0;34m\u001b[0m\u001b[0m\n\u001b[0;32m---> 83\u001b[0;31m         \u001b[0;32mfor\u001b[0m \u001b[0;34m(\u001b[0m\u001b[0mtxt\u001b[0m\u001b[0;34m,\u001b[0m \u001b[0mf\u001b[0m\u001b[0;34m)\u001b[0m \u001b[0;32min\u001b[0m \u001b[0mself\u001b[0m\u001b[0;34m.\u001b[0m\u001b[0mtheretical_complexity\u001b[0m\u001b[0;34m(\u001b[0m\u001b[0;34m)\u001b[0m\u001b[0;34m:\u001b[0m\u001b[0;34m\u001b[0m\u001b[0m\n\u001b[0m\u001b[1;32m     84\u001b[0m             \u001b[0mprint\u001b[0m\u001b[0;34m(\u001b[0m\u001b[0mtxt\u001b[0m\u001b[0;34m,\u001b[0m \u001b[0;34m'-->'\u001b[0m\u001b[0;34m,\u001b[0m \u001b[0mstr\u001b[0m\u001b[0;34m(\u001b[0m\u001b[0mf\u001b[0m\u001b[0;34m(\u001b[0m\u001b[0mself\u001b[0m\u001b[0;34m.\u001b[0m\u001b[0mN\u001b[0m\u001b[0;34m)\u001b[0m\u001b[0;34m)\u001b[0m\u001b[0;34m)\u001b[0m\u001b[0;34m\u001b[0m\u001b[0m\n\u001b[1;32m     85\u001b[0m         \u001b[0mprint\u001b[0m\u001b[0;34m(\u001b[0m\u001b[0;34m'------------------------'\u001b[0m\u001b[0;34m)\u001b[0m\u001b[0;34m\u001b[0m\u001b[0m\n",
      "\u001b[0;32m<ipython-input-1-8b156a1eb51a>\u001b[0m in \u001b[0;36mtheretical_complexity\u001b[0;34m(self)\u001b[0m\n\u001b[1;32m     88\u001b[0m \u001b[0;34m\u001b[0m\u001b[0m\n\u001b[1;32m     89\u001b[0m     \u001b[0;32mdef\u001b[0m \u001b[0mtheretical_complexity\u001b[0m\u001b[0;34m(\u001b[0m\u001b[0mself\u001b[0m\u001b[0;34m)\u001b[0m\u001b[0;34m:\u001b[0m\u001b[0;34m\u001b[0m\u001b[0m\n\u001b[0;32m---> 90\u001b[0;31m         \u001b[0;32mraise\u001b[0m \u001b[0mNotImplementedError\u001b[0m\u001b[0;34m\u001b[0m\u001b[0m\n\u001b[0m\u001b[1;32m     91\u001b[0m \u001b[0;34m\u001b[0m\u001b[0m\n\u001b[1;32m     92\u001b[0m     \u001b[0;34m@\u001b[0m\u001b[0mstaticmethod\u001b[0m\u001b[0;34m\u001b[0m\u001b[0m\n",
      "\u001b[0;31mNotImplementedError\u001b[0m: "
     ]
    }
   ],
   "source": [
    "mq = QuickSort()\n",
    "mq.sort([1,5,2,7,9,3])"
   ]
  },
  {
   "cell_type": "code",
   "execution_count": null,
   "metadata": {},
   "outputs": [],
   "source": []
  }
 ],
 "metadata": {
  "kernelspec": {
   "display_name": "Python 3",
   "language": "python",
   "name": "python3"
  },
  "language_info": {
   "codemirror_mode": {
    "name": "ipython",
    "version": 3
   },
   "file_extension": ".py",
   "mimetype": "text/x-python",
   "name": "python",
   "nbconvert_exporter": "python",
   "pygments_lexer": "ipython3",
   "version": "3.6.4"
  }
 },
 "nbformat": 4,
 "nbformat_minor": 2
}
